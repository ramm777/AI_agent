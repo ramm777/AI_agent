{
 "cells": [
  {
   "cell_type": "code",
   "execution_count": null,
   "metadata": {},
   "outputs": [],
   "source": [
    "###  Working with Conda\n",
    "\n",
    "\"\"\"\n",
    "Install miniconda from the internet \n",
    "    Add conda to PATH - \n",
    "    Start Menu and search for \"Environment Variables.\"\n",
    "    Click on \"Edit the system environment variables.\"\n",
    "    In the System Properties window, click on \"Environment Variables.\"\n",
    "    In the Environment Variables window, find and select the Path\n",
    "    Add new C:\\ProgramData\\miniconda3\\Scripts (or where is yours)\n",
    "\"\"\"\n",
    "\n",
    "# $ conda create -n langchain python=3.12 -y # langchain is the name of virt env\n",
    "# $ conda env list # check all envs by below. * - mean active. I think base must be active\n",
    "\n",
    "# In power shell (admin): \n",
    "# Set-ExecutionPolicy RemoteSigned -Scope CurrentUser\n",
    "\n",
    "# $ conda activate langchain\n",
    "\n",
    "# $ pip install langchain langchain_openai langchain_community langgraph ipykernel python-dotenv\n",
    "\n",
    "# If pip's dependancy resolver Error: \n",
    "# $ pip install google-auth # must be <3.0.dev0,>=2.14.1\n",
    "\n",
    "# $ ipython kernel install --user --name=langchain"
   ]
  },
  {
   "cell_type": "code",
   "execution_count": 2,
   "metadata": {},
   "outputs": [
    {
     "name": "stdout",
     "output_type": "stream",
     "text": [
      "\n",
      "\n",
      "It is a subjective question and opinions may vary. Some people believe th\n"
     ]
    }
   ],
   "source": [
    "import os\n",
    "from dotenv import load_dotenv\n",
    "from langchain_openai import OpenAI\n",
    "\n",
    "load_dotenv()\n",
    "api_key = os.getenv('OPENAI_API_KEY')\n",
    " \n",
    "if True: \n",
    "    llm = OpenAI(openai_api_key=api_key)\n",
    "    question = \"Is Messi the best footballer of all time?\"\n",
    "    output = llm.invoke(question)\n",
    "    print(output[:75])"
   ]
  },
  {
   "cell_type": "code",
   "execution_count": 5,
   "metadata": {},
   "outputs": [
    {
     "data": {
      "text/plain": [
       "(52,\n",
       " ['sleep',\n",
       "  'wolfram-alpha',\n",
       "  'google-search',\n",
       "  'google-search-results-json',\n",
       "  'searx-search-results-json',\n",
       "  'bing-search',\n",
       "  'metaphor-search',\n",
       "  'ddg-search',\n",
       "  'google-books',\n",
       "  'google-lens',\n",
       "  'google-serper',\n",
       "  'google-scholar',\n",
       "  'google-finance',\n",
       "  'google-trends',\n",
       "  'google-jobs',\n",
       "  'google-serper-results-json',\n",
       "  'searchapi',\n",
       "  'searchapi-results-json',\n",
       "  'serpapi',\n",
       "  'dalle-image-generator',\n",
       "  'twilio',\n",
       "  'searx-search',\n",
       "  'merriam-webster',\n",
       "  'wikipedia',\n",
       "  'arxiv',\n",
       "  'golden-query',\n",
       "  'pubmed',\n",
       "  'human',\n",
       "  'awslambda',\n",
       "  'stackexchange',\n",
       "  'sceneXplain',\n",
       "  'graphql',\n",
       "  'openweathermap-api',\n",
       "  'dataforseo-api-search',\n",
       "  'dataforseo-api-search-json',\n",
       "  'eleven_labs_text2speech',\n",
       "  'google_cloud_texttospeech',\n",
       "  'read_file',\n",
       "  'reddit_search',\n",
       "  'news-api',\n",
       "  'tmdb-api',\n",
       "  'podcast-api',\n",
       "  'memorize',\n",
       "  'llm-math',\n",
       "  'open-meteo-api',\n",
       "  'requests',\n",
       "  'requests_get',\n",
       "  'requests_post',\n",
       "  'requests_patch',\n",
       "  'requests_put',\n",
       "  'requests_delete',\n",
       "  'terminal'])"
      ]
     },
     "execution_count": 5,
     "metadata": {},
     "output_type": "execute_result"
    }
   ],
   "source": [
    "from langchain_community.agent_toolkits.load_tools import get_all_tool_names\n",
    "\n",
    "all_tool_names = get_all_tool_names()\n",
    "len(all_tool_names), all_tool_names"
   ]
  },
  {
   "cell_type": "code",
   "execution_count": null,
   "metadata": {},
   "outputs": [],
   "source": [
    "# https://python.langchain.com/v0.1/docs/integrations/tools/golden_query/\n",
    "\n",
    "Looks good"
   ]
  }
 ],
 "metadata": {
  "kernelspec": {
   "display_name": "langchain",
   "language": "python",
   "name": "python3"
  },
  "language_info": {
   "codemirror_mode": {
    "name": "ipython",
    "version": 3
   },
   "file_extension": ".py",
   "mimetype": "text/x-python",
   "name": "python",
   "nbconvert_exporter": "python",
   "pygments_lexer": "ipython3",
   "version": "3.12.9"
  }
 },
 "nbformat": 4,
 "nbformat_minor": 2
}
